{
 "cells": [
  {
   "cell_type": "code",
   "execution_count": 2,
   "metadata": {},
   "outputs": [],
   "source": [
    "import requests\n",
    "import base64\n",
    "from PIL import Image\n",
    "import requests\n",
    "import io"
   ]
  },
  {
   "cell_type": "code",
   "execution_count": 32,
   "metadata": {},
   "outputs": [],
   "source": [
    "\n",
    "# URL do servidor onde a API REST está rodando\n",
    "url = 'http://localhost:8000/main'\n",
    "image_name = 'imagem_positiva_ruido'\n",
    "image_path= '../imagens/' + image_name + '.png'\n"
   ]
  },
  {
   "cell_type": "code",
   "execution_count": 33,
   "metadata": {},
   "outputs": [],
   "source": [
    "def convert_image(image_path):\n",
    "    \"\"\"\n",
    "    Descrição:\n",
    "        Converte a imagem do caminho especificado para uma string base64.\n",
    "        A imagem é redimensionada para 8x8 pixels antes da conversão.\n",
    "\n",
    "    Parâmetros:\n",
    "        image_path: str\n",
    "            O caminho para o arquivo da imagem a ser convertido.\n",
    "\n",
    "    Retorno:\n",
    "        imagem_base64: str\n",
    "            A imagem convertida em uma string base64.\n",
    "    \"\"\"\n",
    "    image = Image.open(image_path)\n",
    "    image = image.resize((8, 8))\n",
    "    buffered = io.BytesIO()\n",
    "    image.save(buffered, format=\"PNG\")\n",
    "    imagem_base64 = base64.b64encode(buffered.getvalue()).decode('utf-8')\n",
    "    return imagem_base64"
   ]
  },
  {
   "cell_type": "code",
   "execution_count": 34,
   "metadata": {},
   "outputs": [],
   "source": [
    "def predict(url, image_path):\n",
    "    \"\"\"\n",
    "    Descrição:\n",
    "        Envia a imagem convertida em base64 para a API e exibe a previsão recebida.\n",
    "\n",
    "    Parâmetros:\n",
    "        url: str\n",
    "            A URL do servidor onde a API REST está rodando.\n",
    "        image_path: str\n",
    "            O caminho para o arquivo da imagem a ser enviado.\n",
    "\n",
    "    Retorno:\n",
    "        None\n",
    "            Esta função não retorna nada, mas imprime a previsão ou erro.\n",
    "    \"\"\"\n",
    "    imagem = convert_image(image_path)\n",
    "    # Enviar a solicitação POST ao servidor\n",
    "    response = requests.post(url, json={'image': imagem})\n",
    "\n",
    "    # Verificar a resposta do servidor\n",
    "    if response.status_code == 200:\n",
    "        prediction = response.json()\n",
    "        print(f\"Previsão: {prediction['prediction']}\")\n",
    "    else:\n",
    "        print(f\"Erro: {response.status_code}, {response.text}\")\n",
    "    print(response.json())"
   ]
  },
  {
   "cell_type": "code",
   "execution_count": 35,
   "metadata": {},
   "outputs": [
    {
     "name": "stdout",
     "output_type": "stream",
     "text": [
      "Previsão: [0]\n",
      "{'prediction': [0]}\n"
     ]
    }
   ],
   "source": [
    "predict(url, image_path)"
   ]
  }
 ],
 "metadata": {
  "kernelspec": {
   "display_name": "Python 3",
   "language": "python",
   "name": "python3"
  },
  "language_info": {
   "codemirror_mode": {
    "name": "ipython",
    "version": 3
   },
   "file_extension": ".py",
   "mimetype": "text/x-python",
   "name": "python",
   "nbconvert_exporter": "python",
   "pygments_lexer": "ipython3",
   "version": "3.12.1"
  }
 },
 "nbformat": 4,
 "nbformat_minor": 2
}
