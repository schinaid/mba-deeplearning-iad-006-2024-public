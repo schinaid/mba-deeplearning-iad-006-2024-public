{
 "cells": [
  {
   "cell_type": "code",
   "execution_count": 2,
   "metadata": {},
   "outputs": [],
   "source": [
    "import requests\n",
    "import json\n"
   ]
  },
  {
   "cell_type": "code",
   "execution_count": 3,
   "metadata": {},
   "outputs": [
    {
     "name": "stdout",
     "output_type": "stream",
     "text": [
      "Previsão: [5]\n"
     ]
    }
   ],
   "source": [
    "\n",
    "# URL do servidor onde a API REST está rodando\n",
    "url = 'http://localhost:8000/main'\n",
    "\n",
    "# Gerar uma lista de 64 valores para inferência\n",
    "data = {\n",
    "    \"features\": [i * 0.01 for i in range(1, 65)]\n",
    "}\n",
    "\n",
    "# Converter os dados para o formato JSON\n",
    "data_json = json.dumps(data)\n",
    "\n",
    "# Enviar a solicitação POST ao servidor\n",
    "response = requests.post(url, data=data_json, headers={'Content-Type': 'application/json'})\n",
    "\n",
    "# Verificar a resposta do servidor\n",
    "if response.status_code == 200:\n",
    "    prediction = response.json()\n",
    "    print(f\"Previsão: {prediction['prediction']}\")\n",
    "else:\n",
    "    print(f\"Erro: {response.status_code}, {response.text}\")"
   ]
  },
  {
   "cell_type": "code",
   "execution_count": null,
   "metadata": {},
   "outputs": [],
   "source": [
    "def client_api(url):\n",
    "    pass"
   ]
  },
  {
   "cell_type": "code",
   "execution_count": null,
   "metadata": {},
   "outputs": [],
   "source": [
    "def get_feature(data):\n",
    "    pass\n",
    "    "
   ]
  },
  {
   "cell_type": "code",
   "execution_count": null,
   "metadata": {},
   "outputs": [],
   "source": [
    "def status_server():\n",
    "    pass"
   ]
  }
 ],
 "metadata": {
  "kernelspec": {
   "display_name": "Python 3",
   "language": "python",
   "name": "python3"
  },
  "language_info": {
   "codemirror_mode": {
    "name": "ipython",
    "version": 3
   },
   "file_extension": ".py",
   "mimetype": "text/x-python",
   "name": "python",
   "nbconvert_exporter": "python",
   "pygments_lexer": "ipython3",
   "version": "3.12.1"
  }
 },
 "nbformat": 4,
 "nbformat_minor": 2
}
