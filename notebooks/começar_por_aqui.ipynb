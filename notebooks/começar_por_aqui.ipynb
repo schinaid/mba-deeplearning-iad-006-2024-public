{
 "cells": [
  {
   "cell_type": "markdown",
   "metadata": {},
   "source": [
    "Aqui está um código simples com sklearn para testar a execução de Python no Codespace com uma Decision Tree:"
   ]
  },
  {
   "cell_type": "code",
   "execution_count": 55,
   "metadata": {},
   "outputs": [],
   "source": [
    "import numpy as np\n",
    "from sklearn.tree import DecisionTreeClassifier\n",
    "from sklearn.datasets import load_iris\n",
    "from sklearn.model_selection import train_test_split"
   ]
  },
  {
   "cell_type": "code",
   "execution_count": 65,
   "metadata": {},
   "outputs": [],
   "source": [
    "def carregar_dataset(dataset_func):\n",
    "    \"\"\"\n",
    "    Descrição:\n",
    "        Essa função é usada para carregar um dataset do Scikit-learn, separando-o em dados e rótulos.\n",
    "\n",
    "    Parâmetros:\n",
    "        dataset_func: função\n",
    "            Função para carregar o dataset (por exemplo, `load_iris`, `load_digits`).\n",
    "\n",
    "    Retorno:\n",
    "        dataset: objeto\n",
    "            O dataset completo carregado.\n",
    "        X: array\n",
    "            As características (dados) do dataset.\n",
    "        y: array\n",
    "            Os rótulos do dataset.\n",
    "    \"\"\"\n",
    "    # Carregar o dataset especifico\n",
    "    dataset = dataset_func()\n",
    "    X = dataset.data\n",
    "    Y = dataset.target\n",
    "\n",
    "    return dataset, X, Y"
   ]
  },
  {
   "cell_type": "code",
   "execution_count": 70,
   "metadata": {},
   "outputs": [],
   "source": [
    "def dividir_treinamento(X, Y, test_size=0.2, random_state=42):\n",
    "    \"\"\"\"\n",
    "    Descrição: \n",
    "        Função usada para Dividir matrizes ou matrizes em subconjuntos de trem aleatório e teste. para isso vou usar a função train_test_split()\n",
    "        \n",
    "    Parametrôs: data, label, test_size, random_state\n",
    "        X = Características de entrada\n",
    "        Y = Rotulos\n",
    "        test_size = representar a proporção do conjunto de dados para incluir na divisão de teste.\n",
    "        random_state = Controla o embaralhamento aplicado aos dados antes de aplicar a divisão. Passe um int para saída reprodutível em várias chamadas de função.\n",
    "\n",
    "    Retorno: X_train, X_test, y_train, y_test\n",
    "        X_train = dados de treinamento separado\n",
    "        X_test = dados de teste separado\n",
    "        y_train = rotulos de treinamento\n",
    "        y_test = rotulos de teste\n",
    "    \"\"\"\n",
    "    # Dividir o dataset em treinamento e teste\n",
    "    X_train, X_test, y_train, y_test = train_test_split(X, Y, test_size=test_size, random_state=random_state)\n",
    "\n",
    "    return X_train, X_test, y_train, y_test"
   ]
  },
  {
   "cell_type": "code",
   "execution_count": 77,
   "metadata": {},
   "outputs": [],
   "source": [
    "def treinando_modelo(modelo, X_train, y_train, X_test, random_state=None):\n",
    "    \"\"\"\n",
    "    Descrição:\n",
    "        Função para treinar um modelo de classificação usando o sklearn.\n",
    "    \n",
    "    Parâmetros:\n",
    "        modelo: classificador\n",
    "            O modelo que queremos usar como classificador (por exemplo, DecisionTreeClassifier, RandomForestClassifier).\n",
    "        X_train: array-like\n",
    "            Dados de treinamento.\n",
    "        X_test: array-like\n",
    "            Dados de teste.\n",
    "        y_train: array-like\n",
    "            Rótulos do conjunto de treinamento.\n",
    "        random_state: int, opcional\n",
    "            Controla o embaralhamento aplicado aos dados antes de aplicar a divisão. Passe um int para saída reprodutível.\n",
    "\n",
    "    Retorno:\n",
    "        modelo_treinado: classificador\n",
    "            O modelo treinado.\n",
    "        y_pred: array\n",
    "            Previsões do modelo para o conjunto de teste.\n",
    "    \"\"\"\n",
    "    # Verificar se o modelo aceita o parâmetro random_state\n",
    "    if 'random_state' in modelo().get_params().keys():\n",
    "        modelo_treinado = modelo(random_state=random_state)\n",
    "    else:\n",
    "        modelo_treinado = modelo()\n",
    "\n",
    "    # Treinar o modelo\n",
    "    modelo_treinado.fit(X_train, y_train)\n",
    "\n",
    "    # Prever as classes para o conjunto de teste\n",
    "    y_pred = modelo_treinado.predict(X_test)\n",
    "\n",
    "    return modelo_treinado, y_pred"
   ]
  },
  {
   "cell_type": "code",
   "execution_count": 80,
   "metadata": {},
   "outputs": [
    {
     "name": "stdout",
     "output_type": "stream",
     "text": [
      "Características (X): [[5.1 3.5 1.4 0.2]\n",
      " [4.9 3.  1.4 0.2]\n",
      " [4.7 3.2 1.3 0.2]\n",
      " [4.6 3.1 1.5 0.2]\n",
      " [5.  3.6 1.4 0.2]]\n",
      "Rótulos (y): [0 0 0 0 0]\n",
      "Precisão: 1.0\n"
     ]
    }
   ],
   "source": [
    "dataset, X, Y = carregar_dataset(load_iris)\n",
    "# Agora, você pode usar `X` e `y` em outras partes do seu código\n",
    "print(\"Características (X):\", X[:5])\n",
    "print(\"Rótulos (y):\", Y[:5])\n",
    "\n",
    "X_train, X_test, y_train, y_test = dividir_treinamento(X, Y)\n",
    "\n",
    "modelo_treinado, y_pred = treinando_modelo(DecisionTreeClassifier, X_train, y_train, X_test, random_state=42)\n",
    "print(\"Precisão:\", modelo_treinado.score(X_test, y_test))"
   ]
  },
  {
   "cell_type": "markdown",
   "metadata": {},
   "source": []
  }
 ],
 "metadata": {
  "kernelspec": {
   "display_name": "Python 3",
   "language": "python",
   "name": "python3"
  },
  "language_info": {
   "codemirror_mode": {
    "name": "ipython",
    "version": 3
   },
   "file_extension": ".py",
   "mimetype": "text/x-python",
   "name": "python",
   "nbconvert_exporter": "python",
   "pygments_lexer": "ipython3",
   "version": "3.10.13"
  }
 },
 "nbformat": 4,
 "nbformat_minor": 2
}
